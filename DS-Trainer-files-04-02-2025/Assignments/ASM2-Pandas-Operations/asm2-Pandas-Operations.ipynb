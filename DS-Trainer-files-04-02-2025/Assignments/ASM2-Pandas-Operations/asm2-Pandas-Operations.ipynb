{
 "cells": [
  {
   "cell_type": "markdown",
   "metadata": {},
   "source": [
    "**Data Science and Machine Learning course - Batch-302**\n",
    "\n",
    "**Assignment-2 - Pandas Operations**\n",
    "\n",
    "**Submission Date: 19/01/2025**\n",
    "\n",
    "**General Instructions for Assignment submission**\n",
    "- **Please zip all the files** - Python code with results, screenshots, text file, etc. Any file please zip all, and upload as a single file.\n",
    "- That zip file's name, keep it based on this template \"**dsmlbatch302_ASM2_<your_firstname>_<your_initial>.zip**\"\n",
    "- Upload File option will be present after clicking the \"Attempt Now\" button in the Assignments page\n",
    "- For clarity about the Assignment, **refer the class video recordings** or ask questions during the next session\n",
    "\n",
    "--------------------------------"
   ]
  },
  {
   "cell_type": "markdown",
   "metadata": {},
   "source": [
    "**Q1)**\tGive 4 examples of **fetching Rows in a Pandas DataFrame**. (Read the given csv file into Python using Pandas)"
   ]
  },
  {
   "cell_type": "code",
   "execution_count": null,
   "metadata": {},
   "outputs": [],
   "source": []
  },
  {
   "cell_type": "markdown",
   "metadata": {},
   "source": [
    "**Q2)**\tGive 4 examples of **fetching Columns in a Pandas DataFrame**. (Read the given csv file into Python using Pandas)"
   ]
  },
  {
   "cell_type": "code",
   "execution_count": null,
   "metadata": {},
   "outputs": [],
   "source": []
  },
  {
   "cell_type": "markdown",
   "metadata": {},
   "source": [
    "**Q3)** Give some examples and Write few points to explain the **difference between loc and .iloc** attributes in a Pandas DataFrame. (Read the given csv file into Python using Pandas)"
   ]
  },
  {
   "cell_type": "code",
   "execution_count": null,
   "metadata": {},
   "outputs": [],
   "source": []
  },
  {
   "cell_type": "markdown",
   "metadata": {},
   "source": [
    "**Q4)** Based on the understanding of first 6 classes in this course, **why should we drop some rows in a DataFrame**?\n"
   ]
  },
  {
   "cell_type": "code",
   "execution_count": null,
   "metadata": {},
   "outputs": [],
   "source": []
  },
  {
   "cell_type": "markdown",
   "metadata": {},
   "source": [
    "**Q5)** Using some examples, show **how to drop rows and columns in a Pandas DataFrame**? (Read the given csv file into Python using Pandas)"
   ]
  },
  {
   "cell_type": "code",
   "execution_count": null,
   "metadata": {},
   "outputs": [],
   "source": []
  },
  {
   "cell_type": "code",
   "execution_count": null,
   "metadata": {},
   "outputs": [],
   "source": []
  },
  {
   "cell_type": "code",
   "execution_count": null,
   "metadata": {},
   "outputs": [],
   "source": []
  },
  {
   "cell_type": "code",
   "execution_count": null,
   "metadata": {},
   "outputs": [],
   "source": []
  }
 ],
 "metadata": {
  "language_info": {
   "name": "python"
  }
 },
 "nbformat": 4,
 "nbformat_minor": 2
}
