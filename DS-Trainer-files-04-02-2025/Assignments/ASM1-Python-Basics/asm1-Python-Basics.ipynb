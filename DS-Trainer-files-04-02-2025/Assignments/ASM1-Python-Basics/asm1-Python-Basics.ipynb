{
 "cells": [
  {
   "cell_type": "markdown",
   "metadata": {},
   "source": [
    "**Data Science and Machine Learning course - Batch-302**\n",
    "\n",
    "**Assignment-1 - Python Basics**\n",
    "\n",
    "**Submission Date: 12/01/2025**\n",
    "\n",
    "**General Instructions for Assignment submission**\n",
    "- **Please zip all the files** - Python code with results, screenshots, text file, etc. Any file please zip all, and upload as a single file.\n",
    "- That zip file's name, keep it based on this template \"**dsmlbatch302_ASM1_<your_firstname>_<your_initial>.zip**\"\n",
    "- Upload File option will be present after clicking the \"Attempt Now\" button in the Assignments page\n",
    "- For clarity about the Assignment, **refer the class video recordings** or ask questions during the next session\n",
    "\n",
    "--------------------------------"
   ]
  },
  {
   "cell_type": "markdown",
   "metadata": {},
   "source": [
    "**Q1)** Download and Install VS Code, and the required Extensions of Python and Jupyter Notebook. And perform the following actions.\n",
    "- Through VS Code, Create a Python project folder named “**dsml-course**”.\n",
    "- Create a \"**.venv folder**\", a Virtual Environment, in the above project folder.\n",
    "- Always use the “**dsml-course**” folder to save any code work related to this course.\n",
    "- Inside the above folder, create another folder named \"**Assignment-1**\"\n",
    "- Use this **Assignment-1** folder to save all files related to this Assignment\n",
    "- **Take a screenshot to show that you have completed the above tasks.**\n",
    "- **Expected Submission: A Screenshot image**"
   ]
  },
  {
   "cell_type": "markdown",
   "metadata": {},
   "source": [
    "**Q2)** Write a simple Python code to:\n",
    "-\tOpen the given text file **\"asm1-data.txt\"** from the same folder of the .ipynb code file for this assignment\n",
    "-\tRead the data in that text file\n",
    "-\t**Print the first line in that text file**\n",
    "-   **Expected Submission: Single .ipynb code file for all answers**\n"
   ]
  },
  {
   "cell_type": "markdown",
   "metadata": {},
   "source": [
    "**Q3)**\tUsing Class and Functions concepts in Python code, perform the following actions:\n",
    "1. Write a Class named “MyFileClass”.\n",
    "2. Within that Class, write a Function named “read_my_file_function”, which takes 1 parameter – **file_location**.\n",
    "3. Use the above Class and Function to:\n",
    "    - Open a text file from current folder\n",
    "    - Read its data\n",
    "    - **Print the first line**\n",
    "- **Expected Submission: Single .ipynb code file for all answers**"
   ]
  },
  {
   "cell_type": "markdown",
   "metadata": {},
   "source": [
    "**Q4)** After reading the above file data, perform following string operations by writing Python code:\n",
    "1. In the **2nd line of the file data** read in previous answer, **extract from 3rd element to 11th element**\n",
    "2. In the above extracted data, perform **string reversal** of all the 9 elements\n",
    "3. **Print all 9 elements** that were reversed in the above line, and get some meaningful words\n",
    "- **Expected Submission: Single .ipynb code file for all answers**\n"
   ]
  },
  {
   "cell_type": "code",
   "execution_count": null,
   "metadata": {},
   "outputs": [],
   "source": []
  },
  {
   "cell_type": "code",
   "execution_count": null,
   "metadata": {},
   "outputs": [],
   "source": []
  },
  {
   "cell_type": "code",
   "execution_count": null,
   "metadata": {},
   "outputs": [],
   "source": []
  },
  {
   "cell_type": "code",
   "execution_count": null,
   "metadata": {},
   "outputs": [],
   "source": []
  },
  {
   "cell_type": "code",
   "execution_count": null,
   "metadata": {},
   "outputs": [],
   "source": []
  },
  {
   "cell_type": "code",
   "execution_count": null,
   "metadata": {},
   "outputs": [],
   "source": []
  },
  {
   "cell_type": "code",
   "execution_count": null,
   "metadata": {},
   "outputs": [],
   "source": []
  },
  {
   "cell_type": "code",
   "execution_count": null,
   "metadata": {},
   "outputs": [],
   "source": []
  },
  {
   "cell_type": "code",
   "execution_count": null,
   "metadata": {},
   "outputs": [],
   "source": []
  },
  {
   "cell_type": "code",
   "execution_count": null,
   "metadata": {},
   "outputs": [],
   "source": []
  }
 ],
 "metadata": {
  "language_info": {
   "name": "python"
  }
 },
 "nbformat": 4,
 "nbformat_minor": 2
}
