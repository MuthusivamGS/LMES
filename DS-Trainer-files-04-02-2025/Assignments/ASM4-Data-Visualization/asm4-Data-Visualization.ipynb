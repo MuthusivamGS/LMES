{
 "cells": [
  {
   "cell_type": "markdown",
   "metadata": {},
   "source": [
    "**Data Science and Machine Learning course - Batch-302**\n",
    "\n",
    "**Assignment-4 - Data Visualization**\n",
    "\n",
    "**Submission Date: 02/02/2025**\n",
    "\n",
    "**General Instructions for Assignment submission**\n",
    "- **Please zip all the files** - Python code with results, screenshots, text file, etc. Any file please zip all, and upload as a single file.\n",
    "- That zip file's name, keep it based on this template \"**dsmlbatch302_ASM4_<your_firstname>_<your_initial>.zip**\"\n",
    "- Upload File option will be present after clicking the \"Attempt Now\" button in the Assignments page\n",
    "- For clarity about the Assignment, **refer the class video recordings** or ask questions during the next session\n",
    "\n",
    "--------------------------------"
   ]
  },
  {
   "cell_type": "markdown",
   "metadata": {},
   "source": [
    "### Initial understanding about this Assignment Dataset"
   ]
  },
  {
   "cell_type": "markdown",
   "metadata": {},
   "source": [
    "**Kaggle:**\n",
    "- Kaggle is a data science competition platform and online community of data scientists and machine learning practitioners under Google LLC.\n",
    "- Kaggle enables users to find and publish datasets, explore and build models in a web-based data science environment, work with other data scientists and machine learning engineers, and enter competitions to solve data science challenges.\n",
    "- Refer: https://en.wikipedia.org/wiki/Kaggle\n",
    "\n",
    "<br>\n",
    "\n",
    "**About Kaggle Dataset Reference for current assignment**\n",
    "- **Username**: equilibriumm\n",
    "- **Dataset title**: Sleep Efficiency Dataset\n",
    "- **Dataset link**: https://www.kaggle.com/datasets/equilibriumm/sleep-efficiency\n",
    "- **Dataset description**: The dataset contains information about a group of test subjects and their sleep patterns.\n",
    "    - Each test subject is identified by a unique \"**Subject ID**\" and their **age** and **gender** are also recorded.\n",
    "    - The \"**Bedtime**\" and \"**Wakeup time**\" features indicate when each subject goes to bed and wakes up each day, and the \"**Sleep duration**\" feature records the total amount of time each subject slept in hours.\n",
    "    - The \"**Sleep efficiency**\" feature is a measure of the proportion of time spent in bed that is actually spent asleep.\n",
    "    - The \"**REM sleep percentage**\", \"**Deep sleep percentage**\", and \"**Light sleep percentage**\" features indicate the amount of time each subject spent in each stage of sleep.\n",
    "    - The \"**Awakenings**\" feature records the number of times each subject wakes up during the night.\n",
    "    - Additionally, the dataset includes information about each subject's **caffeine** and **alcohol** consumption in the 24 hours prior to bedtime, their **smoking** status, and their **exercise** frequency.\n",
    "- **Dataset columns count**: 15\n",
    "- **Dataset rows count**: 452\n",
    "\n",
    "<br>\n",
    "\n",
    "**Dataset Authors:**\n",
    "The dataset provided was collected as part of a study conducted in Morocco by a group of artificial intelligence engineering students from ENSIAS.\n",
    "\n",
    "**Dataset Collection Methodology:**\n",
    "The study aimed to investigate the impact of lifestyle factors such as caffeine, alcohol, and exercise on sleep patterns and sleep quality. The team recruited participants from the local community and collected data over a period of several months. The data was collected using a combination of self-reported surveys, actigraphy, and polysomnography which is a sleep monitoring technique.\n",
    "\n",
    "**Data Analysis Goal:**\n",
    "The data was then analyzed to **understand the relationship between lifestyle factors** and **sleep patterns** and to identify any potential areas for intervention to improve sleep."
   ]
  },
  {
   "cell_type": "code",
   "execution_count": null,
   "metadata": {},
   "outputs": [],
   "source": []
  },
  {
   "cell_type": "markdown",
   "metadata": {},
   "source": [
    "### Data Visualization assignment tasks\n",
    "\n",
    "1. Create an Account in Kaggle with your personal email id\n",
    "2. Download the dataset from this link in Kaggle: https://www.kaggle.com/datasets/equilibriumm/sleep-efficiency\n",
    "3. Use that Dataset and plot various figures, **To Understand the relationship between lifestyle factors** and **sleep patterns**. Recall all the concepts learnt in the course, and **Explain your Understandings in few words after each of the following figure type**:\n",
    "    - Line plot\n",
    "    - Scatter plot\n",
    "    - Bar chart\n",
    "    - Pie chart\n",
    "    - Histogram chart\n",
    "    - Box plot\n",
    "    - Heatmap chart"
   ]
  },
  {
   "cell_type": "code",
   "execution_count": null,
   "metadata": {},
   "outputs": [],
   "source": []
  },
  {
   "cell_type": "code",
   "execution_count": null,
   "metadata": {},
   "outputs": [],
   "source": []
  },
  {
   "cell_type": "code",
   "execution_count": null,
   "metadata": {},
   "outputs": [],
   "source": []
  },
  {
   "cell_type": "code",
   "execution_count": null,
   "metadata": {},
   "outputs": [],
   "source": []
  }
 ],
 "metadata": {
  "language_info": {
   "name": "python"
  }
 },
 "nbformat": 4,
 "nbformat_minor": 2
}
